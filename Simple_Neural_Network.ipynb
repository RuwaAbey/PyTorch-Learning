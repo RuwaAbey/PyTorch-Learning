{
  "nbformat": 4,
  "nbformat_minor": 0,
  "metadata": {
    "colab": {
      "provenance": [],
      "authorship_tag": "ABX9TyMFON+AAwxt4ePZeuwGzim8",
      "include_colab_link": true
    },
    "kernelspec": {
      "name": "python3",
      "display_name": "Python 3"
    },
    "language_info": {
      "name": "python"
    }
  },
  "cells": [
    {
      "cell_type": "markdown",
      "metadata": {
        "id": "view-in-github",
        "colab_type": "text"
      },
      "source": [
        "<a href=\"https://colab.research.google.com/github/RuwaAbey/PyTorch-Learning/blob/main/Simple_Neural_Network.ipynb\" target=\"_parent\"><img src=\"https://colab.research.google.com/assets/colab-badge.svg\" alt=\"Open In Colab\"/></a>"
      ]
    },
    {
      "cell_type": "code",
      "execution_count": 1,
      "metadata": {
        "id": "1c_1kkT6R4xI"
      },
      "outputs": [],
      "source": [
        "import torch\n",
        "import torch.nn as nn\n",
        "import torch.nn.functional as F"
      ]
    },
    {
      "cell_type": "code",
      "source": [
        " #Create a Model Class that inherits nn.Module\n",
        " class Model(nn.Module):\n",
        "  #Input layer (4 features of the flower)\n",
        "  #Hidden layer 1 (number of neurons)\n",
        "  #H2(n)\n",
        "  #output layer (3 classes of Iris flowers)\n",
        "  def __init__(self, in_features=4, h1=8, h2=9, out_features=3):\n",
        "    super().__init__() #instantiate our nn.module\n",
        "    #Apply linear regression to the input features and create z values in the H1 layer\n",
        "    self.fc1 = nn.Linear(in_features, h1)\n",
        "    #Apply Linear regression to the inputs from the H1 layer and create Z values of the H2 layer\n",
        "    self.fc2 = nn.Linear(h1, h2)\n",
        "    #Finnaly apply linera regression to the inputs from the H2 layer and create z values of the finaly layer\n",
        "    self.fc3 = nn.Linear(h2, out_features)\n",
        "\n",
        "  def forward(self,x):\n",
        "    #Applying the activation function Relu to the first layer\n",
        "    x = F.relu(self.fc1(x))\n",
        "    #Applying the activation function Relu to the second layer\n",
        "    x = F.relu(self.fc2(x))\n",
        "    #Applying the activation fucntion Relu to the third layer\n",
        "    x = self.fc3(x)\n",
        "\n",
        "    return x\n"
      ],
      "metadata": {
        "id": "aMXk-EqkTj2u"
      },
      "execution_count": 4,
      "outputs": []
    },
    {
      "cell_type": "code",
      "source": [
        "#Pick a manual seed for randomization\n",
        "torch.manual_seed(41)\n",
        "#Create an instance of model\n",
        "model = Model()"
      ],
      "metadata": {
        "id": "4rv2wgOtXyaT"
      },
      "execution_count": 5,
      "outputs": []
    }
  ]
}
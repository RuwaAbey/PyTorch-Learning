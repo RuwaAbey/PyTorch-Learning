{
  "nbformat": 4,
  "nbformat_minor": 0,
  "metadata": {
    "colab": {
      "provenance": [],
      "authorship_tag": "ABX9TyMu1aEnOKXqmCOfcAMnpqKv",
      "include_colab_link": true
    },
    "kernelspec": {
      "name": "python3",
      "display_name": "Python 3"
    },
    "language_info": {
      "name": "python"
    }
  },
  "cells": [
    {
      "cell_type": "markdown",
      "metadata": {
        "id": "view-in-github",
        "colab_type": "text"
      },
      "source": [
        "<a href=\"https://colab.research.google.com/github/RuwaAbey/PyTorch-Learning/blob/main/Object%20Detection/Metrics/Intersection_over_Union.ipynb\" target=\"_parent\"><img src=\"https://colab.research.google.com/assets/colab-badge.svg\" alt=\"Open In Colab\"/></a>"
      ]
    },
    {
      "cell_type": "markdown",
      "source": [
        "**Import Libraries**"
      ],
      "metadata": {
        "id": "L4SWvx9VXb07"
      }
    },
    {
      "cell_type": "code",
      "source": [
        "import torch"
      ],
      "metadata": {
        "id": "J_F4qlmJXcab"
      },
      "execution_count": 6,
      "outputs": []
    },
    {
      "cell_type": "markdown",
      "source": [
        "**Intersection over Union**"
      ],
      "metadata": {
        "id": "lV8cFon1Od_m"
      }
    },
    {
      "cell_type": "code",
      "source": [
        "def intersection_over_union(boxes_preds, boxes, boxes_labels, box_format=\"midpoint\"):\n",
        "\n",
        "  '''\n",
        "  Calucaltes intersection over union\n",
        "\n",
        "  Parameters:\n",
        "    boxes_preds(tensor) : Prediction of Bounding Boxes (BATCH SIZE, 4)\n",
        "    boxes_lables(tesnor) : Correct labels of Bounding Boxes (BATCH SIZE, 4)\n",
        "    box format (str): midpoint/corners, if boxes (x,y,w,h) or (x1,y1,x2,y2)\n",
        "\n",
        "  Returns:\n",
        "    tensor: Intersection over unioin for all examples\n",
        "  '''\n",
        "\n",
        "  #Boxes_pred shape in (N, 4) where N is the number of boxes\n",
        "  #boxes_lables in (N, 4)]\n",
        "\n",
        "  #Checking if the input boxes are in 'midpoint' format, and if so, convert them to corner coordinates (x1, y1, x2, y2).\n",
        "  if box_format == \"midpoint\":\n",
        "    # Predicted box conversion from (x_center, y_center, width, height) to (x1, y1, x2, y2)\n",
        "    box1_x1 = boxes_preds[...,0:1] - boxes_preds[...,2:3]/2\n",
        "    box1_y1 = boxes_preds[...,1:2] - boxes_preds[...,3:4]/2\n",
        "    box1_x2 = boxes_preds[...,0:1] + boxes_preds[...,2:3]/2\n",
        "    box1_y2 = boxes_preds[...,1:2] + boxes_preds[...,3:4]/2\n",
        "\n",
        "    # Ground truth box conversion from (x_center, y_center, width, height) to (x1, y1, x2, y2)\n",
        "    box2_x1 = boxes_labels[...,0:1] - boxes_labels[...,2:3]/2\n",
        "    box2_y1 = boxes_labels[...,1:2] - boxes_labels[...,3:4]/2\n",
        "    box2_x2 = boxes_labels[...,0:1] + boxes_labels[...,2:3]/2\n",
        "    box2_y2 = boxes_labels[...,1:2] + boxes_labels[...,3:4]/2\n",
        "\n",
        "  #If boxes are in 'corners' format, no conversion is needed.\n",
        "  elif box_format == \"corners\":\n",
        "    #box1 --> predicted box\n",
        "    #Predicted boxes 4 cordinates\n",
        "    # Predicted box (already in x1, y1, x2, y2)\n",
        "    box1_x1 = boxes_preds[..., 0:1]  # x1 of predicted box\n",
        "    box1_y1 = boxes_preds[..., 1:2]  # y1 of predicted box\n",
        "    box1_x2 = boxes_preds[..., 2:3]  # x2 of predicted box\n",
        "    box1_y2 = boxes_preds[..., 3:4]  # y2 of predicted box\n",
        "\n",
        "    #box2 --> Correct box\n",
        "    #Correct boxes 4 cordinates\n",
        "    #Ground truth box (already in x1, y1, x2, y2)\n",
        "    box2_x1 = boxes_labels[..., 0:1]  # x1 of ground truth box\n",
        "    box2_y1 = boxes_labels[..., 1:2]  # y1 of ground truth box\n",
        "    box2_x2 = boxes_labels[..., 2:3]  # x2 of ground truth box\n",
        "    box2_y2 = boxes_labels[..., 3:4]  # y2 of ground truth box\n",
        "\n",
        "  #Taking the cordinates of the intersection box\n",
        "  # Calculating the coordinates of the intersection box\n",
        "  # (x1_intersection, y1_intersection) is the top-left corner of the intersected area\n",
        "  # (x2_intersection, y2_intersection) is the bottom-right corner of the intersected area\n",
        "  x1 = torch.max(box1_x1, box2_x1)  # Take the maximum of the leftmost x-coordinates\n",
        "  y1 = torch.max(box1_y1, box2_y1)  # Take the maximum of the topmost y-coordinates\n",
        "  x2 = torch.min(box1_x2, box2_x2)  # Take the minimum of the rightmost x-coordinates\n",
        "  y2 = torch.min(box1_y2, box2_y2)  # Take the minimum of the bottommost y-coordinates\n",
        "\n",
        "  #Area of intersection box\n",
        "  intersection_area = (x2 - x1).clamp(0) *(y2 - y1).clamp(0)\n",
        "  '''\n",
        "  .clamp(0) prevents negative values in case the boxes don't intersect.\n",
        "  If the two bounding boxes do not overlap, the (x2 - x1) or (y2 - y1) values would be negative,\n",
        "  so we clamp the result to 0 to represent no intersection.\n",
        "  '''\n",
        "\n",
        "  # Calculate the areas of both bounding boxes for the unoin calcualtion\n",
        "  box1_area = abs((box1_x2 - box1_x1) * (box1_y2 - box1_y1))\n",
        "  box2_area = abs((box2_x2 - box2_x1) * (box2_y2 - box2_y1))\n",
        "\n",
        "  #Calculating the union area (# Calculate the union area (area of both boxes minus the area of their intersection))\n",
        "  union_area = box1_area + box2_area - intersection + 1e-6   #1e-6 for numerical stability\n",
        "  '''\n",
        "  The small constant (1e-6) is added to the denominator to avoid division by zero,\n",
        "  especially in cases where the union area is extremely small (e.g., if both boxes are identical).\n",
        "  This ensures that the IoU computation remains stable and avoids producing extremely large or undefined values.\n",
        "  '''\n",
        "\n",
        "  # Return the IoU (ratio of the intersection area to the union area)\n",
        "  return intersection_area / union_area"
      ],
      "metadata": {
        "id": "qeaA7x8KOl8o"
      },
      "execution_count": 7,
      "outputs": []
    },
    {
      "cell_type": "code",
      "source": [],
      "metadata": {
        "id": "kCfvAza0XVIK"
      },
      "execution_count": null,
      "outputs": []
    },
    {
      "cell_type": "code",
      "source": [],
      "metadata": {
        "id": "FfyId0EITsmm"
      },
      "execution_count": null,
      "outputs": []
    }
  ]
}